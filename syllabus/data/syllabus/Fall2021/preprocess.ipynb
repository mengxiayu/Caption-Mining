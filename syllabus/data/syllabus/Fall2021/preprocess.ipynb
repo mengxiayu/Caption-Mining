{
 "cells": [
  {
   "cell_type": "code",
   "execution_count": 42,
   "metadata": {},
   "outputs": [],
   "source": [
    "import glob\n",
    "\n",
    "\n",
    "import PyPDF2\n",
    "import docx2txt\n",
    "from pdfminer import high_level\n",
    "\n",
    "docx_files = glob.glob('*.docx')\n",
    "pdf_files = glob.glob('*.pdf')"
   ]
  },
  {
   "cell_type": "code",
   "execution_count": 43,
   "metadata": {},
   "outputs": [],
   "source": [
    "def docxfile2txt(filename):\n",
    "    # Passing dozcx file to process function\n",
    "    text = docx2txt.process(filename)\n",
    "\n",
    "    # Saving content inside docx file into .txt file\n",
    "    with open(\"./txt/\" + filename.replace('.docx', '.txt'), \"w\") as text_file:\n",
    "       text_file.writelines(text)\n",
    "\n",
    "def pdffile2txt(filename):\n",
    "    # pdffileobj=open(filename,'rb')\n",
    "    # pdfreader=PyPDF2.PdfFileReader(pdffileobj)\n",
    "    # if pdfreader.isEncrypted:\n",
    "    #     print('decrypting ...')\n",
    "    #     pdfreader.decrypt('')\n",
    "    # x=pdfreader.numPages\n",
    "    # pageobj=pdfreader.getPage(x-1)\n",
    "    # text=pageobj.extractText()\n",
    "\n",
    "    \n",
    "    text = high_level.extract_text(filename)\n",
    "\n",
    "    # Saving content inside pdf file into .txt file\n",
    "    with open(\"./txt/\" + filename.replace('.pdf', '.txt'), \"w\") as text_file:\n",
    "        text_file.writelines(text)\n",
    "\n",
    "\n",
    "\n"
   ]
  },
  {
   "cell_type": "code",
   "execution_count": 44,
   "metadata": {},
   "outputs": [],
   "source": [
    "_ = [pdffile2txt(fn) for fn in pdf_files]\n",
    "_ = [docxfile2txt(fn) for fn in docx_files]"
   ]
  },
  {
   "cell_type": "code",
   "execution_count": null,
   "metadata": {},
   "outputs": [],
   "source": []
  }
 ],
 "metadata": {
  "interpreter": {
   "hash": "c76f2542a0675351e8e8e69b5749195b5dad8f869ff8789b49d81d616e84e1ab"
  },
  "kernelspec": {
   "display_name": "Python 3.9.0 ('NFT')",
   "language": "python",
   "name": "python3"
  },
  "language_info": {
   "codemirror_mode": {
    "name": "ipython",
    "version": 3
   },
   "file_extension": ".py",
   "mimetype": "text/x-python",
   "name": "python",
   "nbconvert_exporter": "python",
   "pygments_lexer": "ipython3",
   "version": "3.9.0"
  },
  "orig_nbformat": 4
 },
 "nbformat": 4,
 "nbformat_minor": 2
}
