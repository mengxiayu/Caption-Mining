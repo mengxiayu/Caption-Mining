{
 "cells": [
  {
   "cell_type": "code",
   "execution_count": 1,
   "metadata": {},
   "outputs": [],
   "source": [
    "import re\n",
    "import pandas as pd\n",
    "\n",
    "import spacy\n",
    "from spacy import displacy\n",
    "nlp = spacy.load('en_core_web_sm')\n",
    "\n",
    "from spacy.matcher import Matcher \n",
    "from spacy.tokens import Span \n",
    "\n",
    "import networkx as nx\n",
    "\n",
    "import matplotlib.pyplot as plt\n",
    "from tqdm import tqdm\n",
    "\n",
    "\n",
    "from collections import Counter    "
   ]
  },
  {
   "cell_type": "code",
   "execution_count": 20,
   "metadata": {},
   "outputs": [],
   "source": [
    "def clean_text(text):\n",
    "    # if text.startswith(\"//\"):\n",
    "    #     return \"\"\n",
    "    if \"//\" in text:\n",
    "        return \"\"\n",
    "    text = text.strip().lower()\n",
    "    text = text.replace(\"•\", \"\")\n",
    "    text = \" \".join(text.split(' '))\n",
    "    return text\n",
    "\n",
    "def match_patterns(text):\n",
    "    patterns = [\n",
    "        r\"[A-Z].*?(is|are) called (a|an|the).*?\\.\", \n",
    "        r\"\\..*? defined as .*?\\.\",\n",
    "        r\"[Aa]n? [a-zA-Z]{0,20} [a-zA-Z]{0,20} [a-zA-Z]{0,20} is an? .*?\\.\",\n",
    "        r\"[Aa]n? [a-zA-Z]{0,20} [a-zA-Z]{0,20} is an? .*?\\.\",\n",
    "        r\"[Aa]n? [a-zA-Z]{0,20} is an? .*?\\.\",\n",
    "        r\"[Aa]n? [a-zA-Z]{0,20} is an? .*?\\.\",\n",
    "        r\"[[A-Z]{0,20} is an? .*?\\.\"\n",
    "                ]\n",
    "    for pattern in patterns:\n",
    "        if re.search(pattern, text):\n",
    "            return True\n",
    "\n",
    "def sentence_selection():\n",
    "    texts = []\n",
    "\n",
    "    df_caption = pd.read_csv(\"combined_captions_CS_241.csv\", header=None, sep='\\t')\n",
    "    df_caption = df_caption.dropna()\n",
    "    df_caption.columns = ['tid', 'course_date', 'seg_idx', 'start_time', \n",
    "    'end_time', 'caption', 'caption_lemmatized']\n",
    "\n",
    "    for line in df_caption['caption']:\n",
    "        # print(line)\n",
    "        text = clean_text(line)\n",
    "        if text != \"\":\n",
    "            texts.append(text)\n",
    "\n",
    "    matched_sentences = []\n",
    "    matcher = Matcher(nlp.vocab)\n",
    "    pattern = [{\"POS\": \"DET\", \"OP\":\"?\"}, {\"POS\": \"NOUN\", \"OP\": \"+\"}, {\"POS\": \"AUX\"}, {\"POS\": \"DET\"}]\n",
    "    matcher.add(\"definition\", [pattern])\n",
    "    sources = [] # concept spans\n",
    "    start_indexes = []\n",
    "    \n",
    "    matched_concepts = Counter()\n",
    "    for line in tqdm(texts):\n",
    "        if line[0].isdigit():\n",
    "            continue\n",
    "        sentences = [i.text for i in nlp(line).sents]\n",
    "        for sent in sentences:\n",
    "            if match_patterns(sent):\n",
    "                # print(sent)\n",
    "                s = nlp(sent)\n",
    "                matches = matcher(s)\n",
    "                if len(matches) == 0:\n",
    "                    break\n",
    "                noun_spans = []\n",
    "                max_noun_span_len = 0\n",
    "                for match_id, start, end in matches:\n",
    "                    # string_id = nlp.vocab.strings[match_id]  # Get string representation\n",
    "                    # span = s[start:end]  # The matched span\n",
    "                    # print(span.text)\n",
    "                    if end - start > max_noun_span_len:\n",
    "                        max_noun_span_len = end - start\n",
    "                        noun_span = s[start:end-2].text\n",
    "                noun_spans.append(noun_span)\n",
    "                matched_concepts[noun_span] += 1\n",
    "\n",
    "                for pt in noun_spans:\n",
    "                    start = sent.find(pt)\n",
    "                    if start==-1:\n",
    "                        continue\n",
    "                    sources.append(noun_span)\n",
    "                    matched_sentences.append(sent)\n",
    "                    start_indexes.append(start)\n",
    "                    break\n",
    "    for k,v in matched_concepts.most_common():\n",
    "        print(k,v)\n",
    "    with open(\"extracted_sentences_caption.txt\",'w') as f:\n",
    "        f.write(\"sentence\\tsource\\tstart\\n\")\n",
    "        for i in range(len(sources)):\n",
    "            f.write(f\"{matched_sentences[i]}\\t{sources[i]}\\t{start_indexes[i]}\\n\")\n",
    "\n"
   ]
  },
  {
   "cell_type": "code",
   "execution_count": 21,
   "metadata": {},
   "outputs": [
    {
     "name": "stderr",
     "output_type": "stream",
     "text": [
      "100%|██████████| 8537/8537 [05:29<00:00, 25.89it/s]"
     ]
    },
    {
     "name": "stdout",
     "output_type": "stream",
     "text": [
      "p 2\n",
      "a pipe 1\n",
      "memory 1\n",
      "source 1\n"
     ]
    },
    {
     "name": "stderr",
     "output_type": "stream",
     "text": [
      "\n"
     ]
    }
   ],
   "source": [
    "sentence_selection()"
   ]
  },
  {
   "cell_type": "code",
   "execution_count": null,
   "metadata": {},
   "outputs": [],
   "source": []
  }
 ],
 "metadata": {
  "kernelspec": {
   "display_name": "Python 3.9.0 ('NFT')",
   "language": "python",
   "name": "python3"
  },
  "language_info": {
   "codemirror_mode": {
    "name": "ipython",
    "version": 3
   },
   "file_extension": ".py",
   "mimetype": "text/x-python",
   "name": "python",
   "nbconvert_exporter": "python",
   "pygments_lexer": "ipython3",
   "version": "3.9.0"
  },
  "orig_nbformat": 4,
  "vscode": {
   "interpreter": {
    "hash": "c377a027f0bbb6c0821b68e5c065774f74ef070985e76133b9b1c3a883a152de"
   }
  }
 },
 "nbformat": 4,
 "nbformat_minor": 2
}
