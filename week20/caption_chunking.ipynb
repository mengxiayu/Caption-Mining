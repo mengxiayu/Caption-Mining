{
 "cells": [
  {
   "cell_type": "code",
   "execution_count": 15,
   "metadata": {},
   "outputs": [],
   "source": [
    "import pandas as pd\n",
    "import numpy as np\n",
    "\n",
    "import matplotlib.pyplot as plt\n",
    "import seaborn as sns\n",
    "sns.set()\n",
    "\n",
    "caption_file = './combined_captions_CS_241.csv'"
   ]
  },
  {
   "cell_type": "code",
   "execution_count": 31,
   "metadata": {},
   "outputs": [
    {
     "data": {
      "text/html": [
       "<div>\n",
       "<style scoped>\n",
       "    .dataframe tbody tr th:only-of-type {\n",
       "        vertical-align: middle;\n",
       "    }\n",
       "\n",
       "    .dataframe tbody tr th {\n",
       "        vertical-align: top;\n",
       "    }\n",
       "\n",
       "    .dataframe thead th {\n",
       "        text-align: right;\n",
       "    }\n",
       "</style>\n",
       "<table border=\"1\" class=\"dataframe\">\n",
       "  <thead>\n",
       "    <tr style=\"text-align: right;\">\n",
       "      <th></th>\n",
       "      <th>tid</th>\n",
       "      <th>course_date</th>\n",
       "      <th>seg_idx</th>\n",
       "      <th>start_time</th>\n",
       "      <th>end_time</th>\n",
       "      <th>caption</th>\n",
       "      <th>caption_lemmatized</th>\n",
       "    </tr>\n",
       "  </thead>\n",
       "  <tbody>\n",
       "    <tr>\n",
       "      <th>0</th>\n",
       "      <td>007a4c69-a949-4550-b450-ecb4cd7a8b1e</td>\n",
       "      <td>2019-08-29 18:51:20.728746</td>\n",
       "      <td>15</td>\n",
       "      <td>0.010667</td>\n",
       "      <td>0.979000</td>\n",
       "      <td>OK right so we want to make a barrier out of t...</td>\n",
       "      <td>ok right so we want to make a barrier out of t...</td>\n",
       "    </tr>\n",
       "    <tr>\n",
       "      <th>1</th>\n",
       "      <td>007a4c69-a949-4550-b450-ecb4cd7a8b1e</td>\n",
       "      <td>2019-08-29 18:51:20.728749</td>\n",
       "      <td>23</td>\n",
       "      <td>0.987000</td>\n",
       "      <td>1.579000</td>\n",
       "      <td>right so was left well we've got this if we ma...</td>\n",
       "      <td>right so be leave well we 've get this if we m...</td>\n",
       "    </tr>\n",
       "    <tr>\n",
       "      <th>2</th>\n",
       "      <td>007a4c69-a949-4550-b450-ecb4cd7a8b1e</td>\n",
       "      <td>2019-08-29 18:51:20.728752</td>\n",
       "      <td>33</td>\n",
       "      <td>1.589333</td>\n",
       "      <td>2.249667</td>\n",
       "      <td>but the fifth thread will do what OK so here's...</td>\n",
       "      <td>but the fifth thread will do what ok so here b...</td>\n",
       "    </tr>\n",
       "  </tbody>\n",
       "</table>\n",
       "</div>"
      ],
      "text/plain": [
       "                                    tid                 course_date  seg_idx  \\\n",
       "0  007a4c69-a949-4550-b450-ecb4cd7a8b1e  2019-08-29 18:51:20.728746       15   \n",
       "1  007a4c69-a949-4550-b450-ecb4cd7a8b1e  2019-08-29 18:51:20.728749       23   \n",
       "2  007a4c69-a949-4550-b450-ecb4cd7a8b1e  2019-08-29 18:51:20.728752       33   \n",
       "\n",
       "   start_time  end_time                                            caption  \\\n",
       "0    0.010667  0.979000  OK right so we want to make a barrier out of t...   \n",
       "1    0.987000  1.579000  right so was left well we've got this if we ma...   \n",
       "2    1.589333  2.249667  but the fifth thread will do what OK so here's...   \n",
       "\n",
       "                                  caption_lemmatized  \n",
       "0  ok right so we want to make a barrier out of t...  \n",
       "1  right so be leave well we 've get this if we m...  \n",
       "2  but the fifth thread will do what ok so here b...  "
      ]
     },
     "execution_count": 31,
     "metadata": {},
     "output_type": "execute_result"
    }
   ],
   "source": [
    "df_caption = pd.read_csv(caption_file, header=None, sep='\\t')\n",
    "df_caption.columns = ['tid', 'course_date', 'seg_idx', 'start_time', 'end_time', 'caption', 'caption_lemmatized']\n",
    "df_caption['start_time'] = pd.to_timedelta(df_caption['start_time']).apply(lambda x: x.total_seconds() / 60) \n",
    "df_caption['end_time'] = pd.to_timedelta(df_caption['end_time']).apply(lambda x: x.total_seconds() / 60) \n",
    "\n",
    "\n",
    "df_caption.head(3)"
   ]
  },
  {
   "cell_type": "code",
   "execution_count": 32,
   "metadata": {},
   "outputs": [
    {
     "data": {
      "text/plain": [
       "tid\n",
       "4e573abf-cf71-448e-9c87-e47ce02c5bf0    92\n",
       "7466bd20-538e-4aeb-b004-1fa8fb518f9f    85\n",
       "bc05bdb0-371d-4cd3-97a6-753a576a32f2    75\n",
       "f7acd66f-6e2d-4d16-ad5b-83adf8627df9    73\n",
       "3f559120-de38-4bc0-bcf2-95f88505b2a5    67\n",
       "                                        ..\n",
       "6294f981-6e83-4197-a055-9b34816b1257     2\n",
       "83c8c367-376a-4574-bc73-6b7b742d1b47     2\n",
       "0e632880-1c9f-491d-b02d-a61aa58f2639     1\n",
       "631bb988-4152-4a20-a77e-bcd5ee36e8bd     1\n",
       "3ce291dc-9221-4a5f-aac9-4747049cb814     1\n",
       "Name: tid, Length: 389, dtype: int64"
      ]
     },
     "execution_count": 32,
     "metadata": {},
     "output_type": "execute_result"
    }
   ],
   "source": [
    "df_caption.groupby('tid')['tid'].count().sort_values(ascending=False)"
   ]
  },
  {
   "cell_type": "code",
   "execution_count": 40,
   "metadata": {},
   "outputs": [],
   "source": [
    "# visualize the gap between captions\n",
    "def visualize_gap(df, ax=None):\n",
    "    max_gap = 0\n",
    "    last_end = 0\n",
    "    for idx, row in df.iterrows():\n",
    "        # print(row)\n",
    "        start_time = row['start_time']\n",
    "\n",
    "        max_gap = max(max_gap, start_time - last_end)\n",
    "\n",
    "        end_time = row['end_time']\n",
    "        last_end = end_time\n",
    "\n",
    "        ax.fill_between([start_time, end_time], 0, 1, color='green', alpha=0.5)\n",
    "    return ax, max_gap"
   ]
  },
  {
   "cell_type": "code",
   "execution_count": 47,
   "metadata": {},
   "outputs": [
    {
     "data": {
      "image/png": "[encoded data removed]",
      "text/plain": [
       "<Figure size 1296x432 with 1 Axes>"
      ]
     },
     "metadata": {},
     "output_type": "display_data"
    }
   ],
   "source": [
    "fig, ax = plt.subplots(figsize=(18,6))\n",
    "\n",
    "ax, max_gap = visualize_gap(df_caption[df_caption['tid']=='3f559120-de38-4bc0-bcf2-95f88505b2a5'], ax=ax)"
   ]
  },
  {
   "cell_type": "code",
   "execution_count": 48,
   "metadata": {},
   "outputs": [
    {
     "data": {
      "text/plain": [
       "0.15183333333333593"
      ]
     },
     "execution_count": 48,
     "metadata": {},
     "output_type": "execute_result"
    }
   ],
   "source": [
    "max_gap"
   ]
  },
  {
   "cell_type": "code",
   "execution_count": null,
   "metadata": {},
   "outputs": [],
   "source": []
  }
 ],
 "metadata": {
  "kernelspec": {
   "display_name": "Python 3.7.13 ('DEFT')",
   "language": "python",
   "name": "python3"
  },
  "language_info": {
   "codemirror_mode": {
    "name": "ipython",
    "version": 3
   },
   "file_extension": ".py",
   "mimetype": "text/x-python",
   "name": "python",
   "nbconvert_exporter": "python",
   "pygments_lexer": "ipython3",
   "version": "3.7.13"
  },
  "orig_nbformat": 4,
  "vscode": {
   "interpreter": {
    "hash": "6650669d99db0a7f1b3819a3869cd27ed930ba5590f33e4972f0e3bd957889f8"
   }
  }
 },
 "nbformat": 4,
 "nbformat_minor": 2
}
