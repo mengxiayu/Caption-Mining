{
 "cells": [
  {
   "cell_type": "code",
   "execution_count": 70,
   "metadata": {},
   "outputs": [],
   "source": [
    "import re\n",
    "import string\n",
    "import pandas as pd\n",
    "import numpy as np\n",
    "from collections import Counter\n",
    "import sqlite3\n",
    "import json\n",
    "import csv\n",
    "\n",
    "import nltk\n",
    "from nltk import word_tokenize\n",
    "from nltk.corpus import stopwords\n",
    "from nltk.stem import PorterStemmer, WordNetLemmatizer\n",
    "\n",
    "# import fasttext\n",
    "# import gensim\n",
    "# from gensim.models import Word2Vec\n",
    "# from gensim.models import ldaseqmodel\n",
    "# from gensim import corpora\n",
    "# import gensim.downloader as api\n",
    "\n",
    "from lxml import etree\n",
    "\n",
    "import matplotlib.pyplot as plt\n",
    "\n",
    "\n",
    "from time import time\n",
    "import matplotlib.pyplot as plt\n",
    "\n",
    "from sklearn.feature_extraction.text import TfidfVectorizer, CountVectorizer\n",
    "from sklearn.decomposition import NMF, LatentDirichletAllocation\n",
    "\n",
    "plt.rcParams['figure.dpi'] = 300\n",
    "plt.rcParams[\"font.family\"] = \"serif\"\n",
    "\n",
    "\n",
    "def clean_text(text, tokenizer, stopwords):\n",
    "    \"\"\"Pre-process text and generate tokens\n",
    "\n",
    "    Args:\n",
    "        text: Text to tokenize.\n",
    "\n",
    "    Returns:\n",
    "        Tokenized text.\n",
    "    \"\"\"\n",
    "    text = str(text).lower()  # Lowercase words\n",
    "    text = re.sub(r\"\\[(.*?)\\]\", \"\", text)  # Remove [+XYZ chars] in content\n",
    "    text = re.sub(r\"\\s+\", \" \", text)  # Remove multiple spaces in content\n",
    "    text = re.sub(r\"\\w+…|…\", \"\", text)  # Remove ellipsis (and last word)\n",
    "    text = re.sub(r\"(?<=\\w)-(?=\\w)\", \" \", text)  # Replace dash between words\n",
    "    text = re.sub(\n",
    "        f\"[{re.escape(string.punctuation)}]\", \"\", text\n",
    "    )  # Remove punctuation\n",
    "\n",
    "    tokens = tokenizer(text)  # Get tokens from text\n",
    "    tokens = [t for t in tokens if not t in stopwords]  # Remove stopwords\n",
    "    tokens = [\"\" if t.isdigit() else t for t in tokens]  # Remove digits\n",
    "    tokens = [t for t in tokens if len(t) > 1]  # Remove short tokens\n",
    "    \n",
    "    # stemming and lem\n",
    "    lemmatizer = WordNetLemmatizer()\n",
    "    tokens = [lemmatizer.lemmatize(w) for w in tokens]\n",
    "    \n",
    "    return tokens"
   ]
  },
  {
   "cell_type": "code",
   "execution_count": 71,
   "metadata": {},
   "outputs": [
    {
     "data": {
      "text/plain": [
       "\"Although all these works rely on rapport-building conversational strategies, few of them investigate how rapport-building dialogues influence the perceived quality of the items recommended, or people's compliance towards the recommendations. Moreover, they do not investigate the impact of users' interaction mode on users' perceptions. In this paper, we aim at building a conversational recommender system that recommends recipes while building rapport with its users. More specifically, in this paper, we focus on the following research questions: RQ1: How does the way users interact with a conversational recommender system influence their perception of and their intention to cook recommended recipes? RQ2: How do a conversational recommender system's conversational strategies influence users' perception of and their intention to cook recommended recipes?\""
      ]
     },
     "execution_count": 71,
     "metadata": {},
     "output_type": "execute_result"
    }
   ],
   "source": [
    "# Read in xmls\n",
    "# select sections containing discussion\n",
    "tree = etree.parse('./papers/conversationalAgent/HC_paper_all/xml/17.xml')\n",
    "\n",
    "# select sections containing discussion\n",
    "nodes = tree.xpath(\"(//*[(\"\n",
    "        \"contains(translate(text(), 'ABCDEFGHIJKLMNOPQRSTUVWXYZ', 'abcdefghijklmnopqrstuvwxyz')\"\n",
    "        \",'rq1:') or \"\n",
    "        \"contains(translate(text(), 'ABCDEFGHIJKLMNOPQRSTUVWXYZ', 'abcdefghijklmnopqrstuvwxyz')\"\n",
    "        \",'rq 1:')\"\n",
    "        \")]) [last()]\")\n",
    "if len(nodes) != 0:\n",
    "    node = nodes[0]\n",
    "    title = ''.join(node.xpath(\"text()\"))\n",
    "    text = ''.join(node.xpath(\"../descendant::*/text()\")[1:])\n",
    "    # print(title)\n",
    "else:\n",
    "    print(\"NOT FOUND!\")\n",
    "title"
   ]
  },
  {
   "cell_type": "code",
   "execution_count": 72,
   "metadata": {},
   "outputs": [],
   "source": [
    "def get_introduction_text(path):\n",
    "    \"\"\"Get discussion text from xml file.\n",
    "    \n",
    "    Args:\n",
    "        path: Paper path.\n",
    "    \n",
    "    Returns:\n",
    "        Discussion text.\n",
    "    \"\"\"\n",
    "    tree = etree.parse(path)\n",
    "    nodes = tree.xpath(\"(//*[local-name()='head' and (\"\n",
    "            \"contains(translate(text(), 'ABCDEFGHIJKLMNOPQRSTUVWXYZ', 'abcdefghijklmnopqrstuvwxyz')\"\n",
    "            \",'introduction')\"\n",
    "            \")]) [last()]\")\n",
    "    if len(nodes) != 0:\n",
    "        node = nodes[0]\n",
    "        title = ''.join(node.xpath(\"text()\"))\n",
    "        text = ''.join(node.xpath(\"../descendant::*/text()\")[1:])\n",
    "        # print(title)\n",
    "    else:\n",
    "        print(\"NOT FOUND!\")\n",
    "        text = ''\n",
    "    return text\n",
    "\n",
    "\n",
    "def get_discussion_text(path):\n",
    "    \"\"\"Get discussion text from xml file.\n",
    "    \n",
    "    Args:\n",
    "        path: Paper path.\n",
    "    \n",
    "    Returns:\n",
    "        Discussion text.\n",
    "    \"\"\"\n",
    "    tree = etree.parse(path)\n",
    "    nodes = tree.xpath(\"(//*[local-name()='head' and (\"\n",
    "            \"contains(translate(text(), 'ABCDEFGHIJKLMNOPQRSTUVWXYZ', 'abcdefghijklmnopqrstuvwxyz')\"\n",
    "            \",'discussion') or \"\n",
    "            \"contains(translate(text(), 'ABCDEFGHIJKLMNOPQRSTUVWXYZ', 'abcdefghijklmnopqrstuvwxyz')\"\n",
    "            \",'implication')\"\n",
    "            \")]) [last()]\")\n",
    "    if len(nodes) != 0:\n",
    "        node = nodes[0]\n",
    "        title = ''.join(node.xpath(\"text()\"))\n",
    "        text = ''.join(node.xpath(\"../descendant::*/text()\")[1:])\n",
    "        # print(title)\n",
    "    else:\n",
    "        print(\"NOT FOUND!\")\n",
    "        text = ''\n",
    "    return text\n",
    "\n",
    "\n",
    "def get_relatedWork_text(path):\n",
    "    \"\"\"Get discussion text from xml file.\n",
    "    \n",
    "    Args:\n",
    "        path: Paper path.\n",
    "    \n",
    "    Returns:\n",
    "        related work text.\n",
    "    \"\"\"\n",
    "    tree = etree.parse(path)\n",
    "    nodes = tree.xpath(\"(//*[local-name()='head' and (\"\n",
    "            \"contains(translate(text(), 'ABCDEFGHIJKLMNOPQRSTUVWXYZ', 'abcdefghijklmnopqrstuvwxyz')\"\n",
    "            \",'related work') or \"\n",
    "            \"contains(translate(text(), 'ABCDEFGHIJKLMNOPQRSTUVWXYZ', 'abcdefghijklmnopqrstuvwxyz')\"\n",
    "            \",'background')\"\n",
    "            \")]) [last()]\")\n",
    "    if len(nodes) != 0:\n",
    "        node = nodes[0]\n",
    "        title = ''.join(node.xpath(\"text()\"))\n",
    "        text = ''.join(node.xpath(\"../descendant::*/text()\")[1:])\n",
    "        # print(title)\n",
    "    else:\n",
    "        print(\"NOT FOUND!\")\n",
    "        text = ''\n",
    "    return text\n",
    "\n",
    "def get_RQ_text(path):\n",
    "    # Read in xmls\n",
    "    # select sections containing discussion\n",
    "    tree = etree.parse(path)\n",
    "\n",
    "    # select sections containing discussion\n",
    "    nodes = tree.xpath(\"(//*[(\"\n",
    "            \"contains(translate(text(), 'ABCDEFGHIJKLMNOPQRSTUVWXYZ', 'abcdefghijklmnopqrstuvwxyz')\"\n",
    "            \",'rq1:') or \"\n",
    "            \"contains(translate(text(), 'ABCDEFGHIJKLMNOPQRSTUVWXYZ', 'abcdefghijklmnopqrstuvwxyz')\"\n",
    "            \",'rq 1:')\"\n",
    "            \")]) [last()]\")\n",
    "    if len(nodes) != 0:\n",
    "        node = nodes[0]\n",
    "        title = ''.join(node.xpath(\"text()\"))\n",
    "        text = ''.join(node.xpath(\"../descendant::*/text()\")[1:])\n",
    "        # print(title)\n",
    "    else:\n",
    "        print(\"NOT FOUND!\")\n",
    "    return title"
   ]
  },
  {
   "cell_type": "code",
   "execution_count": 73,
   "metadata": {},
   "outputs": [],
   "source": [
    "path = r'./papers/conversationalAgent/HC_paper_all/xml/17.xml'"
   ]
  },
  {
   "cell_type": "code",
   "execution_count": 74,
   "metadata": {},
   "outputs": [
    {
     "data": {
      "text/plain": [
       "'Healthy eating implies complex decision making processes [6], including being aware of healthy options and choosing among them [24]. One solution to overcome this issue and help people to make healthier choices is to develop health-aware food recommender systems [31]. While significant effort has been put recently into optimizing the food selection algorithms [30], many other factors can also influence users\\' overall experience when interacting with a recommender system [14]. Indeed, the way the recommendation is presented [18], the system\\'s response time [33], or even the length of the system\\'s utterances [20] can have an influence on users\\' perception of the system.One trend to improve users\\' experience is to make the interaction more natural by designing the recommendation process as a conversation [23]. Besides helping users to achieve task-oriented goals, conversations can also fulfill interpersonal functions, such as building rapport [29]. Rapport can be described as a dynamic process that can be achieved when people \"click\" with each other or feel the interaction is due to \"chemistry\" [27]. Human-human studies have found that rapport between two people can influence task performance in situations as diverse as peer-tutoring [25] and negotiation [7]. Based on these findings, it becomes important to endow recommender systems with social conversational infrastructure that would allow them to build rapport with their users to improve task effectiveness.In this paper, we present a conversational system able to recommend recipes matching users\\' needs while building rapport with them. More specifically, our work focuses on investigating how the conversational skills of a recipe recommender system and the interaction modes it offers to its users would influence users\\' perception and their intention to cook. First, we describe the design of our system and its architecture before we explain how the recommendation process works. Then, we evaluate our system through an experiment in which we study the impact of our system\\'s conversational skills and interaction mode on its persuasiveness. Our main contributions are (1) a rapport-building conversational approach to deliver recipe recommendations adapted to users\\' needs and habits and (2) a subjective evaluation investigating the influence of a recommender system\\'s conversational skills and interaction mode on users\\' perception of the system, users\\' perception of the interaction and users\\' intention to cook the recommended recipes.'"
      ]
     },
     "execution_count": 74,
     "metadata": {},
     "output_type": "execute_result"
    }
   ],
   "source": [
    "get_introduction_text(path)"
   ]
  },
  {
   "cell_type": "code",
   "execution_count": 75,
   "metadata": {},
   "outputs": [
    {
     "data": {
      "text/plain": [
       "\"Although all these works rely on rapport-building conversational strategies, few of them investigate how rapport-building dialogues influence the perceived quality of the items recommended, or people's compliance towards the recommendations. Moreover, they do not investigate the impact of users' interaction mode on users' perceptions. In this paper, we aim at building a conversational recommender system that recommends recipes while building rapport with its users. More specifically, in this paper, we focus on the following research questions: RQ1: How does the way users interact with a conversational recommender system influence their perception of and their intention to cook recommended recipes? RQ2: How do a conversational recommender system's conversational strategies influence users' perception of and their intention to cook recommended recipes?\""
      ]
     },
     "execution_count": 75,
     "metadata": {},
     "output_type": "execute_result"
    }
   ],
   "source": [
    "get_RQ_text(path)"
   ]
  },
  {
   "cell_type": "code",
   "execution_count": 76,
   "metadata": {},
   "outputs": [
    {
     "data": {
      "text/plain": [
       "\"Food Recommender Systems. A common approach for food recommender systems is to recommend a recipe based on its ingredients. In [8], for example, the authors developed a system that relies on recipes that people like to infer their preferred ingredients. The system then recommends new recipes containing the previously inferred ingredients. In [9], the authors developed a system that collects users' preferences by asking them to rate and tag the recipes they usually cook at home. The system then relies on user's preferences to rank recipes and deliver recommendations with the highest scores. This Matrix Factorization algorithm outperformed the content-based approach proposed by [8]. Other approaches only rely on dietary information to recommend recipes that would match users' needs. YumMe, the recommender system developed in [36], automatically extracts dietary information from pictures of recipes to form a user profile. The system then relies on this user profile to deliver subsequent recommendations. In [11], authors analyzed people's eating behavior and clustered people in two categories: those interested in getting healthy recipes, and those who did not care about that. They found that two of the main recipe rating predictors for the first group were the fat and calorific content of the recipe, and decided to incorporate these features in their recommendation process.All these works focus on improving recommendation algorithms. They do not investigate how the modality of the interaction between the system and its users can improve users' experience which, according to [15], should not be neglected.\""
      ]
     },
     "execution_count": 76,
     "metadata": {},
     "output_type": "execute_result"
    }
   ],
   "source": [
    "get_relatedWork_text(path)"
   ]
  },
  {
   "cell_type": "code",
   "execution_count": null,
   "metadata": {},
   "outputs": [],
   "source": []
  },
  {
   "cell_type": "code",
   "execution_count": null,
   "metadata": {},
   "outputs": [],
   "source": []
  }
 ],
 "metadata": {
  "kernelspec": {
   "display_name": "Python 3.8.13 ('RETTL')",
   "language": "python",
   "name": "python3"
  },
  "language_info": {
   "codemirror_mode": {
    "name": "ipython",
    "version": 3
   },
   "file_extension": ".py",
   "mimetype": "text/x-python",
   "name": "python",
   "nbconvert_exporter": "python",
   "pygments_lexer": "ipython3",
   "version": "3.8.13"
  },
  "orig_nbformat": 4,
  "vscode": {
   "interpreter": {
    "hash": "1c16594d52f1bbdc28772c674e21bc33b9170541f681f2409e5dbd92f2b3c8f0"
   }
  }
 },
 "nbformat": 4,
 "nbformat_minor": 2
}
