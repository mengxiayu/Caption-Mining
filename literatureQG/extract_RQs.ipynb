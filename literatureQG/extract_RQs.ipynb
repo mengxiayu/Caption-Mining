{
 "cells": [
  {
   "cell_type": "code",
   "execution_count": 1,
   "metadata": {},
   "outputs": [],
   "source": [
    "import re\n",
    "import string\n",
    "import pandas as pd\n",
    "import numpy as np\n",
    "from collections import Counter\n",
    "import sqlite3\n",
    "import json\n",
    "import csv\n",
    "\n",
    "import nltk\n",
    "from nltk import word_tokenize\n",
    "from nltk.corpus import stopwords\n",
    "from nltk.stem import PorterStemmer, WordNetLemmatizer\n",
    "\n",
    "# import fasttext\n",
    "# import gensim\n",
    "# from gensim.models import Word2Vec\n",
    "# from gensim.models import ldaseqmodel\n",
    "# from gensim import corpora\n",
    "# import gensim.downloader as api\n",
    "\n",
    "from lxml import etree\n",
    "\n",
    "import matplotlib.pyplot as plt\n",
    "\n",
    "\n",
    "from time import time\n",
    "import matplotlib.pyplot as plt\n",
    "\n",
    "from sklearn.feature_extraction.text import TfidfVectorizer, CountVectorizer\n",
    "from sklearn.decomposition import NMF, LatentDirichletAllocation\n",
    "\n",
    "plt.rcParams['figure.dpi'] = 300\n",
    "plt.rcParams[\"font.family\"] = \"serif\"\n",
    "\n",
    "\n",
    "def clean_text(text, tokenizer, stopwords):\n",
    "    \"\"\"Pre-process text and generate tokens\n",
    "\n",
    "    Args:\n",
    "        text: Text to tokenize.\n",
    "\n",
    "    Returns:\n",
    "        Tokenized text.\n",
    "    \"\"\"\n",
    "    text = str(text).lower()  # Lowercase words\n",
    "    text = re.sub(r\"\\[(.*?)\\]\", \"\", text)  # Remove [+XYZ chars] in content\n",
    "    text = re.sub(r\"\\s+\", \" \", text)  # Remove multiple spaces in content\n",
    "    text = re.sub(r\"\\w+…|…\", \"\", text)  # Remove ellipsis (and last word)\n",
    "    text = re.sub(r\"(?<=\\w)-(?=\\w)\", \" \", text)  # Replace dash between words\n",
    "    text = re.sub(\n",
    "        f\"[{re.escape(string.punctuation)}]\", \"\", text\n",
    "    )  # Remove punctuation\n",
    "\n",
    "    tokens = tokenizer(text)  # Get tokens from text\n",
    "    tokens = [t for t in tokens if not t in stopwords]  # Remove stopwords\n",
    "    tokens = [\"\" if t.isdigit() else t for t in tokens]  # Remove digits\n",
    "    tokens = [t for t in tokens if len(t) > 1]  # Remove short tokens\n",
    "    \n",
    "    # stemming and lem\n",
    "    lemmatizer = WordNetLemmatizer()\n",
    "    tokens = [lemmatizer.lemmatize(w) for w in tokens]\n",
    "    \n",
    "    return tokens"
   ]
  },
  {
   "cell_type": "code",
   "execution_count": 2,
   "metadata": {},
   "outputs": [
    {
     "data": {
      "text/plain": [
       "\"Although all these works rely on rapport-building conversational strategies, few of them investigate how rapport-building dialogues influence the perceived quality of the items recommended, or people's compliance towards the recommendations. Moreover, they do not investigate the impact of users' interaction mode on users' perceptions. In this paper, we aim at building a conversational recommender system that recommends recipes while building rapport with its users. More specifically, in this paper, we focus on the following research questions: RQ1: How does the way users interact with a conversational recommender system influence their perception of and their intention to cook recommended recipes? RQ2: How do a conversational recommender system's conversational strategies influence users' perception of and their intention to cook recommended recipes?\""
      ]
     },
     "execution_count": 2,
     "metadata": {},
     "output_type": "execute_result"
    }
   ],
   "source": [
    "# Read in xmls\n",
    "# select sections containing discussion\n",
    "tree = etree.parse('./papers/conversationalAgent/HC_paper_all/xml/17.xml')\n",
    "\n",
    "# select sections containing discussion\n",
    "nodes = tree.xpath(\"(//*[(\"\n",
    "        \"contains(translate(text(), 'ABCDEFGHIJKLMNOPQRSTUVWXYZ', 'abcdefghijklmnopqrstuvwxyz')\"\n",
    "        \",'rq1:') or \"\n",
    "        \"contains(translate(text(), 'ABCDEFGHIJKLMNOPQRSTUVWXYZ', 'abcdefghijklmnopqrstuvwxyz')\"\n",
    "        \",'rq 1:')\"\n",
    "        \")]) [last()]\")\n",
    "if len(nodes) != 0:\n",
    "    node = nodes[0]\n",
    "    title = ''.join(node.xpath(\"text()\"))\n",
    "    text = ''.join(node.xpath(\"../descendant::*/text()\")[1:])\n",
    "    # print(title)\n",
    "else:\n",
    "    print(\"NOT FOUND!\")\n",
    "title"
   ]
  },
  {
   "cell_type": "code",
   "execution_count": 3,
   "metadata": {},
   "outputs": [],
   "source": [
    "def get_introduction_text(path):\n",
    "    \"\"\"Get discussion text from xml file.\n",
    "    \n",
    "    Args:\n",
    "        path: Paper path.\n",
    "    \n",
    "    Returns:\n",
    "        Discussion text.\n",
    "    \"\"\"\n",
    "    tree = etree.parse(path)\n",
    "    nodes = tree.xpath(\"(//*[local-name()='head' and (\"\n",
    "            \"contains(translate(text(), 'ABCDEFGHIJKLMNOPQRSTUVWXYZ', 'abcdefghijklmnopqrstuvwxyz')\"\n",
    "            \",'introduction')\"\n",
    "            \")]) [last()]\")\n",
    "    if len(nodes) != 0:\n",
    "        node = nodes[0]\n",
    "        title = ''.join(node.xpath(\"text()\"))\n",
    "        text = ''.join(node.xpath(\"../descendant::*/text()\")[1:])\n",
    "        # print(title)\n",
    "    else:\n",
    "        print(\"NOT FOUND!\")\n",
    "        text = ''\n",
    "    return text\n",
    "\n",
    "\n",
    "def get_discussion_text(path):\n",
    "    \"\"\"Get discussion text from xml file.\n",
    "    \n",
    "    Args:\n",
    "        path: Paper path.\n",
    "    \n",
    "    Returns:\n",
    "        Discussion text.\n",
    "    \"\"\"\n",
    "    tree = etree.parse(path)\n",
    "    nodes = tree.xpath(\"(//*[local-name()='head' and (\"\n",
    "            \"contains(translate(text(), 'ABCDEFGHIJKLMNOPQRSTUVWXYZ', 'abcdefghijklmnopqrstuvwxyz')\"\n",
    "            \",'discussion') or \"\n",
    "            \"contains(translate(text(), 'ABCDEFGHIJKLMNOPQRSTUVWXYZ', 'abcdefghijklmnopqrstuvwxyz')\"\n",
    "            \",'implication')\"\n",
    "            \")]) [last()]\")\n",
    "    if len(nodes) != 0:\n",
    "        node = nodes[0]\n",
    "        title = ''.join(node.xpath(\"text()\"))\n",
    "        text = ''.join(node.xpath(\"../descendant::*/text()\")[1:])\n",
    "        # print(title)\n",
    "    else:\n",
    "        print(\"NOT FOUND!\")\n",
    "        text = ''\n",
    "    return text\n",
    "\n",
    "\n",
    "def get_relatedWork_text(path):\n",
    "    \"\"\"Get discussion text from xml file.\n",
    "    \n",
    "    Args:\n",
    "        path: Paper path.\n",
    "    \n",
    "    Returns:\n",
    "        related work text.\n",
    "    \"\"\"\n",
    "    tree = etree.parse(path)\n",
    "    nodes = tree.xpath(\"(//*[local-name()='head' and (\"\n",
    "            \"contains(translate(text(), 'ABCDEFGHIJKLMNOPQRSTUVWXYZ', 'abcdefghijklmnopqrstuvwxyz')\"\n",
    "            \",'related work') or \"\n",
    "            \"contains(translate(text(), 'ABCDEFGHIJKLMNOPQRSTUVWXYZ', 'abcdefghijklmnopqrstuvwxyz')\"\n",
    "            \",'background')\"\n",
    "            \")]) [last()]\")\n",
    "    if len(nodes) != 0:\n",
    "        node = nodes[0]\n",
    "        title = ''.join(node.xpath(\"text()\"))\n",
    "        text = ''.join(node.xpath(\"../descendant::*/text()\")[1:])\n",
    "        # print(title)\n",
    "    else:\n",
    "        print(\"NOT FOUND!\")\n",
    "        text = ''\n",
    "    return text\n",
    "\n",
    "def get_RQ_text(path):\n",
    "    # Read in xmls\n",
    "    # select sections containing discussion\n",
    "    tree = etree.parse(path)\n",
    "\n",
    "    # select sections containing discussion\n",
    "    nodes = tree.xpath(\"(//*[(\"\n",
    "            \"contains(translate(text(), 'ABCDEFGHIJKLMNOPQRSTUVWXYZ', 'abcdefghijklmnopqrstuvwxyz')\"\n",
    "            \",'rq1:') or \"\n",
    "            \"contains(translate(text(), 'ABCDEFGHIJKLMNOPQRSTUVWXYZ', 'abcdefghijklmnopqrstuvwxyz')\"\n",
    "            \",'rq 1:')\"\n",
    "            \")]) [last()]\")\n",
    "    if len(nodes) != 0:\n",
    "        node = nodes[0]\n",
    "        title = ''.join(node.xpath(\"text()\"))\n",
    "        text = ''.join(node.xpath(\"../descendant::*/text()\")[1:])\n",
    "        # print(title)\n",
    "    else:\n",
    "        print(\"NOT FOUND!\")\n",
    "    return title"
   ]
  },
  {
   "cell_type": "code",
   "execution_count": 4,
   "metadata": {},
   "outputs": [],
   "source": [
    "path = r'./papers/conversationalAgent/HC_paper_all/xml/17.xml'"
   ]
  },
  {
   "cell_type": "code",
   "execution_count": 5,
   "metadata": {},
   "outputs": [
    {
     "data": {
      "text/plain": [
       "'Healthy eating implies complex decision making processes [6], including being aware of healthy options and choosing among them [24]. One solution to overcome this issue and help people to make healthier choices is to develop health-aware food recommender systems [31]. While significant effort has been put recently into optimizing the food selection algorithms [30], many other factors can also influence users\\' overall experience when interacting with a recommender system [14]. Indeed, the way the recommendation is presented [18], the system\\'s response time [33], or even the length of the system\\'s utterances [20] can have an influence on users\\' perception of the system.One trend to improve users\\' experience is to make the interaction more natural by designing the recommendation process as a conversation [23]. Besides helping users to achieve task-oriented goals, conversations can also fulfill interpersonal functions, such as building rapport [29]. Rapport can be described as a dynamic process that can be achieved when people \"click\" with each other or feel the interaction is due to \"chemistry\" [27]. Human-human studies have found that rapport between two people can influence task performance in situations as diverse as peer-tutoring [25] and negotiation [7]. Based on these findings, it becomes important to endow recommender systems with social conversational infrastructure that would allow them to build rapport with their users to improve task effectiveness.In this paper, we present a conversational system able to recommend recipes matching users\\' needs while building rapport with them. More specifically, our work focuses on investigating how the conversational skills of a recipe recommender system and the interaction modes it offers to its users would influence users\\' perception and their intention to cook. First, we describe the design of our system and its architecture before we explain how the recommendation process works. Then, we evaluate our system through an experiment in which we study the impact of our system\\'s conversational skills and interaction mode on its persuasiveness. Our main contributions are (1) a rapport-building conversational approach to deliver recipe recommendations adapted to users\\' needs and habits and (2) a subjective evaluation investigating the influence of a recommender system\\'s conversational skills and interaction mode on users\\' perception of the system, users\\' perception of the interaction and users\\' intention to cook the recommended recipes.'"
      ]
     },
     "execution_count": 5,
     "metadata": {},
     "output_type": "execute_result"
    }
   ],
   "source": [
    "get_introduction_text(path)"
   ]
  },
  {
   "cell_type": "code",
   "execution_count": 6,
   "metadata": {},
   "outputs": [
    {
     "data": {
      "text/plain": [
       "\"Although all these works rely on rapport-building conversational strategies, few of them investigate how rapport-building dialogues influence the perceived quality of the items recommended, or people's compliance towards the recommendations. Moreover, they do not investigate the impact of users' interaction mode on users' perceptions. In this paper, we aim at building a conversational recommender system that recommends recipes while building rapport with its users. More specifically, in this paper, we focus on the following research questions: RQ1: How does the way users interact with a conversational recommender system influence their perception of and their intention to cook recommended recipes? RQ2: How do a conversational recommender system's conversational strategies influence users' perception of and their intention to cook recommended recipes?\""
      ]
     },
     "execution_count": 6,
     "metadata": {},
     "output_type": "execute_result"
    }
   ],
   "source": [
    "get_RQ_text(path)"
   ]
  },
  {
   "cell_type": "code",
   "execution_count": 7,
   "metadata": {},
   "outputs": [
    {
     "data": {
      "text/plain": [
       "\"Food Recommender Systems. A common approach for food recommender systems is to recommend a recipe based on its ingredients. In [8], for example, the authors developed a system that relies on recipes that people like to infer their preferred ingredients. The system then recommends new recipes containing the previously inferred ingredients. In [9], the authors developed a system that collects users' preferences by asking them to rate and tag the recipes they usually cook at home. The system then relies on user's preferences to rank recipes and deliver recommendations with the highest scores. This Matrix Factorization algorithm outperformed the content-based approach proposed by [8]. Other approaches only rely on dietary information to recommend recipes that would match users' needs. YumMe, the recommender system developed in [36], automatically extracts dietary information from pictures of recipes to form a user profile. The system then relies on this user profile to deliver subsequent recommendations. In [11], authors analyzed people's eating behavior and clustered people in two categories: those interested in getting healthy recipes, and those who did not care about that. They found that two of the main recipe rating predictors for the first group were the fat and calorific content of the recipe, and decided to incorporate these features in their recommendation process.All these works focus on improving recommendation algorithms. They do not investigate how the modality of the interaction between the system and its users can improve users' experience which, according to [15], should not be neglected.\""
      ]
     },
     "execution_count": 7,
     "metadata": {},
     "output_type": "execute_result"
    }
   ],
   "source": [
    "get_relatedWork_text(path)"
   ]
  },
  {
   "cell_type": "code",
   "execution_count": null,
   "metadata": {},
   "outputs": [],
   "source": []
  },
  {
   "cell_type": "code",
   "execution_count": null,
   "metadata": {},
   "outputs": [],
   "source": []
  },
  {
   "cell_type": "code",
   "execution_count": 47,
   "metadata": {},
   "outputs": [],
   "source": [
    "import json\n",
    "import glob\n",
    "import os\n",
    "\n",
    "# picking out papers with no RQs detected\n",
    "# papers = glob.glob('./papers/conversationalAgent/HC_paper_all/xml/*.xml')\n",
    "with open('RQs.jsonl', 'r') as f:\n",
    "    dPapers = [json.loads(line) for line in f]\n",
    "paperPaths = ['./' + '/'.join(d['path'].split('/')[-5:]) for d in dPapers]"
   ]
  },
  {
   "cell_type": "code",
   "execution_count": 53,
   "metadata": {},
   "outputs": [],
   "source": [
    "allPapers = glob.glob('./papers/**/*.xml', recursive=True)\n",
    "# allPapers"
   ]
  },
  {
   "cell_type": "code",
   "execution_count": 75,
   "metadata": {},
   "outputs": [
    {
     "name": "stderr",
     "output_type": "stream",
     "text": [
      "cp: ./papers/conversationalAgent/HC_paper_all/162.pdf: No such file or directory\n",
      "cp: ./papers/conversationalAgent/HC_paper_all/88.pdf: No such file or directory\n",
      "cp: ./papers/conversationalAgent/HC_paper_all/176.pdf: No such file or directory\n",
      "cp: ./papers/conversationalAgent/HC_paper_all/63.pdf: No such file or directory\n",
      "cp: ./papers/conversationalAgent/HC_paper_all/77.pdf: No such file or directory\n",
      "cp: ./papers/conversationalAgent/HC_paper_all/189.pdf: No such file or directory\n",
      "cp: ./papers/conversationalAgent/HC_paper_all/214.pdf: No such file or directory\n",
      "cp: ./papers/conversationalAgent/HC_paper_all/200.pdf: No such file or directory\n",
      "cp: ./papers/conversationalAgent/HC_paper_all/201.pdf: No such file or directory\n",
      "cp: ./papers/conversationalAgent/HC_paper_all/215.pdf: No such file or directory\n",
      "cp: ./papers/conversationalAgent/HC_paper_all/76.pdf: No such file or directory\n",
      "cp: ./papers/conversationalAgent/HC_paper_all/188.pdf: No such file or directory\n",
      "cp: ./papers/conversationalAgent/HC_paper_all/62.pdf: No such file or directory\n",
      "cp: ./papers/conversationalAgent/HC_paper_all/89.pdf: No such file or directory\n",
      "cp: ./papers/conversationalAgent/HC_paper_all/163.pdf: No such file or directory\n",
      "cp: ./papers/conversationalAgent/HC_paper_all/175.pdf: No such file or directory\n",
      "cp: ./papers/conversationalAgent/HC_paper_all/161.pdf: No such file or directory\n",
      "cp: ./papers/conversationalAgent/HC_paper_all/149.pdf: No such file or directory\n",
      "cp: ./papers/conversationalAgent/HC_paper_all/74.pdf: No such file or directory\n",
      "cp: ./papers/conversationalAgent/HC_paper_all/60.pdf: No such file or directory\n",
      "cp: ./papers/conversationalAgent/HC_paper_all/203.pdf: No such file or directory\n",
      "cp: ./papers/conversationalAgent/HC_paper_all/217.pdf: No such file or directory\n",
      "cp: ./papers/conversationalAgent/HC_paper_all/202.pdf: No such file or directory\n",
      "cp: ./papers/conversationalAgent/HC_paper_all/61.pdf: No such file or directory\n",
      "cp: ./papers/conversationalAgent/HC_paper_all/75.pdf: No such file or directory\n",
      "cp: ./papers/conversationalAgent/HC_paper_all/49.pdf: No such file or directory\n",
      "cp: ./papers/conversationalAgent/HC_paper_all/148.pdf: No such file or directory\n",
      "cp: ./papers/conversationalAgent/HC_paper_all/160.pdf: No such file or directory\n",
      "cp: ./papers/conversationalAgent/HC_paper_all/174.pdf: No such file or directory\n",
      "cp: ./papers/conversationalAgent/HC_paper_all/158.pdf: No such file or directory\n",
      "cp: ./papers/conversationalAgent/HC_paper_all/170.pdf: No such file or directory\n",
      "cp: ./papers/conversationalAgent/HC_paper_all/71.pdf: No such file or directory\n",
      "cp: ./papers/conversationalAgent/HC_paper_all/65.pdf: No such file or directory\n",
      "cp: ./papers/conversationalAgent/HC_paper_all/59.pdf: No such file or directory\n",
      "cp: ./papers/conversationalAgent/HC_paper_all/206.pdf: No such file or directory\n",
      "cp: ./papers/conversationalAgent/HC_paper_all/212.pdf: No such file or directory\n",
      "cp: ./papers/conversationalAgent/HC_paper_all/207.pdf: No such file or directory\n",
      "cp: ./papers/conversationalAgent/HC_paper_all/58.pdf: No such file or directory\n",
      "cp: ./papers/conversationalAgent/HC_paper_all/70.pdf: No such file or directory\n",
      "cp: ./papers/conversationalAgent/HC_paper_all/159.pdf: No such file or directory\n",
      "cp: ./papers/conversationalAgent/HC_paper_all/99.pdf: No such file or directory\n",
      "cp: ./papers/conversationalAgent/HC_paper_all/167.pdf: No such file or directory\n",
      "cp: ./papers/conversationalAgent/HC_paper_all/66.pdf: No such file or directory\n",
      "cp: ./papers/conversationalAgent/HC_paper_all/198.pdf: No such file or directory\n",
      "cp: ./papers/conversationalAgent/HC_paper_all/8.pdf: No such file or directory\n",
      "cp: ./papers/conversationalAgent/HC_paper_all/211.pdf: No such file or directory\n",
      "cp: ./papers/conversationalAgent/HC_paper_all/205.pdf: No such file or directory\n",
      "cp: ./papers/conversationalAgent/HC_paper_all/204.pdf: No such file or directory\n",
      "cp: ./papers/conversationalAgent/HC_paper_all/210.pdf: No such file or directory\n",
      "cp: ./papers/conversationalAgent/HC_paper_all/9.pdf: No such file or directory\n",
      "cp: ./papers/conversationalAgent/HC_paper_all/67.pdf: No such file or directory\n",
      "cp: ./papers/conversationalAgent/HC_paper_all/199.pdf: No such file or directory\n",
      "cp: ./papers/conversationalAgent/HC_paper_all/172.pdf: No such file or directory\n",
      "cp: ./papers/conversationalAgent/HC_paper_all/98.pdf: No such file or directory\n",
      "cp: ./papers/conversationalAgent/HC_paper_all/166.pdf: No such file or directory\n",
      "cp: ./papers/conversationalAgent/HC_paper_all/101.pdf: No such file or directory\n",
      "cp: ./papers/conversationalAgent/HC_paper_all/129.pdf: No such file or directory\n",
      "cp: ./papers/conversationalAgent/HC_paper_all/14.pdf: No such file or directory\n",
      "cp: ./papers/conversationalAgent/HC_paper_all/15.pdf: No such file or directory\n",
      "cp: ./papers/conversationalAgent/HC_paper_all/128.pdf: No such file or directory\n",
      "cp: ./papers/conversationalAgent/HC_paper_all/114.pdf: No such file or directory\n",
      "cp: ./papers/conversationalAgent/HC_paper_all/100.pdf: No such file or directory\n",
      "cp: ./papers/conversationalAgent/HC_paper_all/102.pdf: No such file or directory\n",
      "cp: ./papers/conversationalAgent/HC_paper_all/16.pdf: No such file or directory\n",
      "cp: ./papers/conversationalAgent/HC_paper_all/103.pdf: No such file or directory\n",
      "cp: ./papers/conversationalAgent/HC_paper_all/117.pdf: No such file or directory\n",
      "cp: ./papers/conversationalAgent/HC_paper_all/113.pdf: No such file or directory\n",
      "cp: ./papers/conversationalAgent/HC_paper_all/107.pdf: No such file or directory\n",
      "cp: ./papers/conversationalAgent/HC_paper_all/13.pdf: No such file or directory\n",
      "cp: ./papers/conversationalAgent/HC_paper_all/106.pdf: No such file or directory\n",
      "cp: ./papers/conversationalAgent/HC_paper_all/112.pdf: No such file or directory\n",
      "cp: ./papers/conversationalAgent/HC_paper_all/138.pdf: No such file or directory\n",
      "cp: ./papers/conversationalAgent/HC_paper_all/104.pdf: No such file or directory\n",
      "cp: ./papers/conversationalAgent/HC_paper_all/110.pdf: No such file or directory\n",
      "cp: ./papers/conversationalAgent/HC_paper_all/11.pdf: No such file or directory\n",
      "cp: ./papers/conversationalAgent/HC_paper_all/39.pdf: No such file or directory\n",
      "cp: ./papers/conversationalAgent/HC_paper_all/38.pdf: No such file or directory\n",
      "cp: ./papers/conversationalAgent/HC_paper_all/105.pdf: No such file or directory\n",
      "cp: ./papers/conversationalAgent/HC_paper_all/139.pdf: No such file or directory\n",
      "cp: ./papers/conversationalAgent/HC_paper_all/120.pdf: No such file or directory\n",
      "cp: ./papers/conversationalAgent/HC_paper_all/108.pdf: No such file or directory\n",
      "cp: ./papers/conversationalAgent/HC_paper_all/21.pdf: No such file or directory\n",
      "cp: ./papers/conversationalAgent/HC_paper_all/35.pdf: No such file or directory\n",
      "cp: ./papers/conversationalAgent/HC_paper_all/34.pdf: No such file or directory\n",
      "cp: ./papers/conversationalAgent/HC_paper_all/20.pdf: No such file or directory\n",
      "cp: ./papers/conversationalAgent/HC_paper_all/121.pdf: No such file or directory\n",
      "cp: ./papers/conversationalAgent/HC_paper_all/137.pdf: No such file or directory\n",
      "cp: ./papers/conversationalAgent/HC_paper_all/123.pdf: No such file or directory\n",
      "cp: ./papers/conversationalAgent/HC_paper_all/36.pdf: No such file or directory\n",
      "cp: ./papers/conversationalAgent/HC_paper_all/22.pdf: No such file or directory\n",
      "cp: ./papers/conversationalAgent/HC_paper_all/23.pdf: No such file or directory\n",
      "cp: ./papers/conversationalAgent/HC_paper_all/37.pdf: No such file or directory\n",
      "cp: ./papers/conversationalAgent/HC_paper_all/122.pdf: No such file or directory\n",
      "cp: ./papers/conversationalAgent/HC_paper_all/136.pdf: No such file or directory\n",
      "cp: ./papers/conversationalAgent/HC_paper_all/132.pdf: No such file or directory\n",
      "cp: ./papers/conversationalAgent/HC_paper_all/126.pdf: No such file or directory\n",
      "cp: ./papers/conversationalAgent/HC_paper_all/33.pdf: No such file or directory\n",
      "cp: ./papers/conversationalAgent/HC_paper_all/27.pdf: No such file or directory\n",
      "cp: ./papers/conversationalAgent/HC_paper_all/26.pdf: No such file or directory\n",
      "cp: ./papers/conversationalAgent/HC_paper_all/32.pdf: No such file or directory\n",
      "cp: ./papers/conversationalAgent/HC_paper_all/133.pdf: No such file or directory\n",
      "cp: ./papers/conversationalAgent/HC_paper_all/119.pdf: No such file or directory\n",
      "cp: ./papers/conversationalAgent/HC_paper_all/125.pdf: No such file or directory\n",
      "cp: ./papers/conversationalAgent/HC_paper_all/30.pdf: No such file or directory\n",
      "cp: ./papers/conversationalAgent/HC_paper_all/18.pdf: No such file or directory\n",
      "cp: ./papers/conversationalAgent/HC_paper_all/19.pdf: No such file or directory\n",
      "cp: ./papers/conversationalAgent/HC_paper_all/31.pdf: No such file or directory\n",
      "cp: ./papers/conversationalAgent/HC_paper_all/25.pdf: No such file or directory\n",
      "cp: ./papers/conversationalAgent/HC_paper_all/130.pdf: No such file or directory\n",
      "cp: ./papers/conversationalAgent/HC_paper_all/124.pdf: No such file or directory\n",
      "cp: ./papers/conversationalAgent/HC_paper_all/118.pdf: No such file or directory\n",
      "cp: ./papers/conversationalAgent/HC_paper_all/143.pdf: No such file or directory\n",
      "cp: ./papers/conversationalAgent/HC_paper_all/157.pdf: No such file or directory\n",
      "cp: ./papers/conversationalAgent/HC_paper_all/81.pdf: No such file or directory\n",
      "cp: ./papers/conversationalAgent/HC_paper_all/95.pdf: No such file or directory\n",
      "cp: ./papers/conversationalAgent/HC_paper_all/180.pdf: No such file or directory\n",
      "cp: ./papers/conversationalAgent/HC_paper_all/194.pdf: No such file or directory\n",
      "cp: ./papers/conversationalAgent/HC_paper_all/42.pdf: No such file or directory\n",
      "cp: ./papers/conversationalAgent/HC_paper_all/56.pdf: No such file or directory\n",
      "cp: ./papers/conversationalAgent/HC_paper_all/4.pdf: No such file or directory\n",
      "cp: ./papers/conversationalAgent/HC_paper_all/209.pdf: No such file or directory\n",
      "cp: ./papers/conversationalAgent/HC_paper_all/208.pdf: No such file or directory\n",
      "cp: ./papers/conversationalAgent/HC_paper_all/57.pdf: No such file or directory\n",
      "cp: ./papers/conversationalAgent/HC_paper_all/5.pdf: No such file or directory\n",
      "cp: ./papers/conversationalAgent/HC_paper_all/43.pdf: No such file or directory\n",
      "cp: ./papers/conversationalAgent/HC_paper_all/181.pdf: No such file or directory\n",
      "cp: ./papers/conversationalAgent/HC_paper_all/94.pdf: No such file or directory\n",
      "cp: ./papers/conversationalAgent/HC_paper_all/156.pdf: No such file or directory\n",
      "cp: ./papers/conversationalAgent/HC_paper_all/142.pdf: No such file or directory\n",
      "cp: ./papers/conversationalAgent/HC_paper_all/140.pdf: No such file or directory\n",
      "cp: ./papers/conversationalAgent/HC_paper_all/168.pdf: No such file or directory\n",
      "cp: ./papers/conversationalAgent/HC_paper_all/96.pdf: No such file or directory\n",
      "cp: ./papers/conversationalAgent/HC_paper_all/82.pdf: No such file or directory\n",
      "cp: ./papers/conversationalAgent/HC_paper_all/197.pdf: No such file or directory\n",
      "cp: ./papers/conversationalAgent/HC_paper_all/69.pdf: No such file or directory\n",
      "cp: ./papers/conversationalAgent/HC_paper_all/183.pdf: No such file or directory\n",
      "cp: ./papers/conversationalAgent/HC_paper_all/7.pdf: No such file or directory\n",
      "cp: ./papers/conversationalAgent/HC_paper_all/55.pdf: No such file or directory\n",
      "cp: ./papers/conversationalAgent/HC_paper_all/41.pdf: No such file or directory\n",
      "cp: ./papers/conversationalAgent/HC_paper_all/40.pdf: No such file or directory\n",
      "cp: ./papers/conversationalAgent/HC_paper_all/6.pdf: No such file or directory\n",
      "cp: ./papers/conversationalAgent/HC_paper_all/182.pdf: No such file or directory\n",
      "cp: ./papers/conversationalAgent/HC_paper_all/196.pdf: No such file or directory\n",
      "cp: ./papers/conversationalAgent/HC_paper_all/68.pdf: No such file or directory\n",
      "cp: ./papers/conversationalAgent/HC_paper_all/83.pdf: No such file or directory\n",
      "cp: ./papers/conversationalAgent/HC_paper_all/169.pdf: No such file or directory\n",
      "cp: ./papers/conversationalAgent/HC_paper_all/97.pdf: No such file or directory\n",
      "cp: ./papers/conversationalAgent/HC_paper_all/141.pdf: No such file or directory\n",
      "cp: ./papers/conversationalAgent/HC_paper_all/179.pdf: No such file or directory\n",
      "cp: ./papers/conversationalAgent/HC_paper_all/87.pdf: No such file or directory\n",
      "cp: ./papers/conversationalAgent/HC_paper_all/151.pdf: No such file or directory\n",
      "cp: ./papers/conversationalAgent/HC_paper_all/145.pdf: No such file or directory\n",
      "cp: ./papers/conversationalAgent/HC_paper_all/50.pdf: No such file or directory\n",
      "cp: ./papers/conversationalAgent/HC_paper_all/2.pdf: No such file or directory\n",
      "cp: ./papers/conversationalAgent/HC_paper_all/44.pdf: No such file or directory\n",
      "cp: ./papers/conversationalAgent/HC_paper_all/192.pdf: No such file or directory\n",
      "cp: ./papers/conversationalAgent/HC_paper_all/186.pdf: No such file or directory\n",
      "cp: ./papers/conversationalAgent/HC_paper_all/187.pdf: No such file or directory\n",
      "cp: ./papers/conversationalAgent/HC_paper_all/79.pdf: No such file or directory\n",
      "cp: ./papers/conversationalAgent/HC_paper_all/193.pdf: No such file or directory\n",
      "cp: ./papers/conversationalAgent/HC_paper_all/45.pdf: No such file or directory\n",
      "cp: ./papers/conversationalAgent/HC_paper_all/51.pdf: No such file or directory\n",
      "cp: ./papers/conversationalAgent/HC_paper_all/3.pdf: No such file or directory\n",
      "cp: ./papers/conversationalAgent/HC_paper_all/144.pdf: No such file or directory\n",
      "cp: ./papers/conversationalAgent/HC_paper_all/150.pdf: No such file or directory\n",
      "cp: ./papers/conversationalAgent/HC_paper_all/178.pdf: No such file or directory\n",
      "cp: ./papers/conversationalAgent/HC_paper_all/86.pdf: No such file or directory\n",
      "cp: ./papers/conversationalAgent/HC_paper_all/84.pdf: No such file or directory\n",
      "cp: ./papers/conversationalAgent/HC_paper_all/90.pdf: No such file or directory\n",
      "cp: ./papers/conversationalAgent/HC_paper_all/146.pdf: No such file or directory\n",
      "cp: ./papers/conversationalAgent/HC_paper_all/152.pdf: No such file or directory\n",
      "cp: ./papers/conversationalAgent/HC_paper_all/1.pdf: No such file or directory\n",
      "cp: ./papers/conversationalAgent/HC_paper_all/53.pdf: No such file or directory\n",
      "cp: ./papers/conversationalAgent/HC_paper_all/219.pdf: No such file or directory\n",
      "cp: ./papers/conversationalAgent/HC_paper_all/190.pdf: No such file or directory\n",
      "cp: ./papers/conversationalAgent/HC_paper_all/184.pdf: No such file or directory\n",
      "cp: ./papers/conversationalAgent/HC_paper_all/52.pdf: No such file or directory\n",
      "cp: ./papers/conversationalAgent/HC_paper_all/46.pdf: No such file or directory\n",
      "cp: ./papers/conversationalAgent/HC_paper_all/153.pdf: No such file or directory\n",
      "cp: ./papers/conversationalAgent/HC_paper_all/147.pdf: No such file or directory\n",
      "cp: ./papers/conversationalAgent/HC_paper_all/91.pdf: No such file or directory\n",
      "cp: ./papers/conversationalAgent/HC_paper_all/85.pdf: No such file or directory\n"
     ]
    }
   ],
   "source": [
    "# delete and recreate folder nonRQs\n",
    "os.system('rm -r ./papers/nonRQs')\n",
    "os.makedirs('./papers/nonRQs', exist_ok=False)\n",
    "os.makedirs('./papers/nonRQs/conversationalAgent', exist_ok=False)\n",
    "os.makedirs('./papers/nonRQs/multimodalHI', exist_ok=False)\n",
    "\n",
    "for paper in allPapers:\n",
    "    if paper not in paperPaths:\n",
    "        os.system('cp ' + paper + ' ./papers/nonRQs/%s'%paper.split('/')[2])\n",
    "        try:\n",
    "            os.system('cp ' + '/'.join(paper.split('/')[:4] + [paper.split('/')[5].split('.')[0] + '.pdf']) + ' ' + ' ./papers/nonRQs/%s'%paper.split('/')[2])\n",
    "        except:\n",
    "            pass\n",
    "    # else:\n",
    "        # print(paper)\n"
   ]
  },
  {
   "cell_type": "code",
   "execution_count": 74,
   "metadata": {},
   "outputs": [
    {
     "data": {
      "text/plain": [
       "0"
      ]
     },
     "execution_count": 74,
     "metadata": {},
     "output_type": "execute_result"
    }
   ],
   "source": [
    "os.system('cp ' + '/'.join(paper.split('/')[:4] + [paper.split('/')[5].split('.')[0] + '.pdf']) + ' ' + ' ./papers/nonRQs/%s'%paper.split('/')[2])"
   ]
  },
  {
   "cell_type": "code",
   "execution_count": 73,
   "metadata": {},
   "outputs": [
    {
     "data": {
      "text/plain": [
       "'./papers/multimodalHI/MHI/85.pdf'"
      ]
     },
     "execution_count": 73,
     "metadata": {},
     "output_type": "execute_result"
    }
   ],
   "source": [
    "'/'.join(paper.split('/')[:4] + [paper.split('/')[5].split('.')[0] + '.pdf'])"
   ]
  },
  {
   "cell_type": "code",
   "execution_count": null,
   "metadata": {},
   "outputs": [],
   "source": []
  },
  {
   "cell_type": "code",
   "execution_count": null,
   "metadata": {},
   "outputs": [],
   "source": []
  }
 ],
 "metadata": {
  "kernelspec": {
   "display_name": "Python 3.8.13 ('RETTL')",
   "language": "python",
   "name": "python3"
  },
  "language_info": {
   "codemirror_mode": {
    "name": "ipython",
    "version": 3
   },
   "file_extension": ".py",
   "mimetype": "text/x-python",
   "name": "python",
   "nbconvert_exporter": "python",
   "pygments_lexer": "ipython3",
   "version": "3.8.13"
  },
  "orig_nbformat": 4,
  "vscode": {
   "interpreter": {
    "hash": "1c16594d52f1bbdc28772c674e21bc33b9170541f681f2409e5dbd92f2b3c8f0"
   }
  }
 },
 "nbformat": 4,
 "nbformat_minor": 2
}
