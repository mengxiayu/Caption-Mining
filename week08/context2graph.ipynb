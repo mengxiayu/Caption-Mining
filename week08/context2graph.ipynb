{
 "cells": [
  {
   "cell_type": "markdown",
   "metadata": {},
   "source": [
    "Converts all context jsons into one single graph json\n",
    "\n",
    "Example graph input:\n",
    "\n",
    "```\n",
    "{\n",
    "  \"nodes\": [\n",
    "    {\"id\": \"Myriel\", \"group\": 1},\n",
    "    {\"id\": \"Napoleon\", \"group\": 1},\n",
    "  ],\n",
    "\"links\": [\n",
    "    {\"source\": \"Napoleon\", \"target\": \"Myriel\", \"value\": 1},\n",
    "    {\"source\": \"Mlle.Baptistine\", \"target\": \"Myriel\", \"value\": 8},\n",
    "],\n",
    "}\n",
    "```"
   ]
  },
  {
   "cell_type": "code",
   "execution_count": 16,
   "metadata": {},
   "outputs": [],
   "source": [
    "import json\n",
    "import glob\n",
    "import re\n",
    "\n",
    "json_path = './'"
   ]
  },
  {
   "cell_type": "code",
   "execution_count": 20,
   "metadata": {},
   "outputs": [],
   "source": [
    "files = glob.glob(json_path + '*_*_*.json')"
   ]
  },
  {
   "cell_type": "code",
   "execution_count": 34,
   "metadata": {},
   "outputs": [],
   "source": [
    "course_set = set()\n",
    "concept_set = set()\n",
    "lecture_set = set()\n",
    "\n",
    "nodes = []\n",
    "links = []\n",
    "\n",
    "\n",
    "for file in files:\n",
    "    lec2course = {}\n",
    "    lec2concept = {}\n",
    "\n",
    "    # add course node\n",
    "    course_name = file.split('_')[1]\n",
    "    if course_name not in course_set:\n",
    "        course_set.add(course_name)\n",
    "        course_node = {\n",
    "            'id': course_name, \n",
    "            'group': 0,\n",
    "        }\n",
    "        nodes.append(course_node)\n",
    "\n",
    "\n",
    "    with open(file, 'r') as f:\n",
    "        context = json.load(f)\n",
    "        f.close()\n",
    "\n",
    "    # add concept node\n",
    "    # print(context)\n",
    "    concept_name = context['text']\n",
    "    if concept_name not in concept_set:\n",
    "        concept_set.add(concept_name)\n",
    "        concept_node = {\n",
    "            'id': concept_name, \n",
    "            'group': 2,\n",
    "        }\n",
    "        nodes.append(concept_node)\n",
    "\n",
    "\n",
    "    for d in context['contexts']:\n",
    "        # add lecture node\n",
    "        lecture_name = d['course'] + '_' + str(d['lecture_num'])\n",
    "        if lecture_name not in lecture_set:\n",
    "            lecture_set.add(lecture_name)\n",
    "            lecture_node = {\n",
    "                'id': lecture_name, \n",
    "                'group': 1,\n",
    "                'context': d['context'], \n",
    "                'label': d['label'], \n",
    "                'lecture': d['lecture'], \n",
    "                'transcription': d['transcription'], \n",
    "            }\n",
    "            nodes.append(lecture_node)\n",
    "\n",
    "        # add links\n",
    "        lec2course[lecture_name] = course_name\n",
    "        lec2concept[lecture_name] = concept_name\n",
    "\n",
    "\n",
    "    for lecture_name in lec2course:\n",
    "        links.append(\n",
    "            {\n",
    "                \"source\": lecture_name, \n",
    "                \"target\": lec2course[lecture_name], \n",
    "                \"value\": 1\n",
    "            }\n",
    "        )\n",
    "    for lecture_name in lec2concept:\n",
    "        links.append(\n",
    "            {\n",
    "                \"source\": lecture_name, \n",
    "                \"target\": lec2concept[lecture_name], \n",
    "                \"value\": 1\n",
    "            }\n",
    "        )\n",
    "\n"
   ]
  },
  {
   "cell_type": "code",
   "execution_count": 36,
   "metadata": {},
   "outputs": [],
   "source": [
    "\n",
    "\n",
    "with open('course_concepts.json', 'w') as f:\n",
    "    json.dump({\n",
    "        'nodes': nodes,\n",
    "        'links': links,\n",
    "    }, f, ensure_ascii=False, indent=4)"
   ]
  },
  {
   "cell_type": "code",
   "execution_count": null,
   "metadata": {},
   "outputs": [],
   "source": []
  }
 ],
 "metadata": {
  "interpreter": {
   "hash": "c76f2542a0675351e8e8e69b5749195b5dad8f869ff8789b49d81d616e84e1ab"
  },
  "kernelspec": {
   "display_name": "Python 3.9.0 ('NFT')",
   "language": "python",
   "name": "python3"
  },
  "language_info": {
   "codemirror_mode": {
    "name": "ipython",
    "version": 3
   },
   "file_extension": ".py",
   "mimetype": "text/x-python",
   "name": "python",
   "nbconvert_exporter": "python",
   "pygments_lexer": "ipython3",
   "version": "3.9.0"
  },
  "orig_nbformat": 4
 },
 "nbformat": 4,
 "nbformat_minor": 2
}
